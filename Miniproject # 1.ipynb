{
 "cells": [
  {
   "cell_type": "markdown",
   "id": "3f466b48",
   "metadata": {},
   "source": [
    "Загрузите датасет bookings.csv"
   ]
  },
  {
   "cell_type": "code",
   "execution_count": 2,
   "id": "4a1d6cfa",
   "metadata": {},
   "outputs": [],
   "source": [
    "import pandas as pd\n",
    "\n",
    "bookings = pd.read_csv('bookings.csv', sep = ';')"
   ]
  },
  {
   "cell_type": "code",
   "execution_count": 2,
   "id": "bee65422",
   "metadata": {},
   "outputs": [
    {
     "data": {
      "text/plain": [
       "(119390, 21)"
      ]
     },
     "execution_count": 2,
     "metadata": {},
     "output_type": "execute_result"
    }
   ],
   "source": [
    "bookings.shape"
   ]
  },
  {
   "cell_type": "code",
   "execution_count": 3,
   "id": "90adc7f7",
   "metadata": {},
   "outputs": [
    {
     "name": "stdout",
     "output_type": "stream",
     "text": [
      "<class 'pandas.core.frame.DataFrame'>\n",
      "RangeIndex: 119390 entries, 0 to 119389\n",
      "Data columns (total 21 columns):\n",
      " #   Column                     Non-Null Count   Dtype  \n",
      "---  ------                     --------------   -----  \n",
      " 0   Hotel                      119390 non-null  object \n",
      " 1   Is Canceled                119390 non-null  int64  \n",
      " 2   Lead Time                  119390 non-null  int64  \n",
      " 3   arrival full date          119390 non-null  object \n",
      " 4   Arrival Date Year          119390 non-null  int64  \n",
      " 5   Arrival Date Month         119390 non-null  object \n",
      " 6   Arrival Date Week Number   119390 non-null  int64  \n",
      " 7   Arrival Date Day of Month  119390 non-null  int64  \n",
      " 8   Stays in Weekend nights    119390 non-null  int64  \n",
      " 9   Stays in week nights       119390 non-null  int64  \n",
      " 10  stays total nights         119390 non-null  int64  \n",
      " 11  Adults                     119390 non-null  int64  \n",
      " 12  Children                   119386 non-null  float64\n",
      " 13  Babies                     119390 non-null  int64  \n",
      " 14  Meal                       119390 non-null  object \n",
      " 15  Country                    118902 non-null  object \n",
      " 16  Reserved Room Type         119390 non-null  object \n",
      " 17  Assigned room type         119390 non-null  object \n",
      " 18  customer type              119390 non-null  object \n",
      " 19  Reservation Status         119390 non-null  object \n",
      " 20  Reservation status_date    119390 non-null  object \n",
      "dtypes: float64(1), int64(10), object(10)\n",
      "memory usage: 19.1+ MB\n"
     ]
    }
   ],
   "source": [
    "bookings.info()"
   ]
  },
  {
   "cell_type": "code",
   "execution_count": 4,
   "id": "06f298a2",
   "metadata": {},
   "outputs": [
    {
     "data": {
      "text/html": [
       "<div>\n",
       "<style scoped>\n",
       "    .dataframe tbody tr th:only-of-type {\n",
       "        vertical-align: middle;\n",
       "    }\n",
       "\n",
       "    .dataframe tbody tr th {\n",
       "        vertical-align: top;\n",
       "    }\n",
       "\n",
       "    .dataframe thead th {\n",
       "        text-align: right;\n",
       "    }\n",
       "</style>\n",
       "<table border=\"1\" class=\"dataframe\">\n",
       "  <thead>\n",
       "    <tr style=\"text-align: right;\">\n",
       "      <th></th>\n",
       "      <th>Hotel</th>\n",
       "      <th>Is Canceled</th>\n",
       "      <th>Lead Time</th>\n",
       "      <th>arrival full date</th>\n",
       "      <th>Arrival Date Year</th>\n",
       "      <th>Arrival Date Month</th>\n",
       "      <th>Arrival Date Week Number</th>\n",
       "      <th>Arrival Date Day of Month</th>\n",
       "      <th>Stays in Weekend nights</th>\n",
       "      <th>Stays in week nights</th>\n",
       "      <th>...</th>\n",
       "      <th>Adults</th>\n",
       "      <th>Children</th>\n",
       "      <th>Babies</th>\n",
       "      <th>Meal</th>\n",
       "      <th>Country</th>\n",
       "      <th>Reserved Room Type</th>\n",
       "      <th>Assigned room type</th>\n",
       "      <th>customer type</th>\n",
       "      <th>Reservation Status</th>\n",
       "      <th>Reservation status_date</th>\n",
       "    </tr>\n",
       "  </thead>\n",
       "  <tbody>\n",
       "    <tr>\n",
       "      <th>0</th>\n",
       "      <td>Resort Hotel</td>\n",
       "      <td>0</td>\n",
       "      <td>342</td>\n",
       "      <td>2015-07-01</td>\n",
       "      <td>2015</td>\n",
       "      <td>July</td>\n",
       "      <td>27</td>\n",
       "      <td>1</td>\n",
       "      <td>0</td>\n",
       "      <td>0</td>\n",
       "      <td>...</td>\n",
       "      <td>2</td>\n",
       "      <td>0.0</td>\n",
       "      <td>0</td>\n",
       "      <td>BB</td>\n",
       "      <td>PRT</td>\n",
       "      <td>C</td>\n",
       "      <td>C</td>\n",
       "      <td>Transient</td>\n",
       "      <td>Check-Out</td>\n",
       "      <td>2015-07-01</td>\n",
       "    </tr>\n",
       "    <tr>\n",
       "      <th>1</th>\n",
       "      <td>Resort Hotel</td>\n",
       "      <td>0</td>\n",
       "      <td>737</td>\n",
       "      <td>2015-07-01</td>\n",
       "      <td>2015</td>\n",
       "      <td>July</td>\n",
       "      <td>27</td>\n",
       "      <td>1</td>\n",
       "      <td>0</td>\n",
       "      <td>0</td>\n",
       "      <td>...</td>\n",
       "      <td>2</td>\n",
       "      <td>0.0</td>\n",
       "      <td>0</td>\n",
       "      <td>BB</td>\n",
       "      <td>PRT</td>\n",
       "      <td>C</td>\n",
       "      <td>C</td>\n",
       "      <td>Transient</td>\n",
       "      <td>Check-Out</td>\n",
       "      <td>2015-07-01</td>\n",
       "    </tr>\n",
       "    <tr>\n",
       "      <th>2</th>\n",
       "      <td>Resort Hotel</td>\n",
       "      <td>0</td>\n",
       "      <td>7</td>\n",
       "      <td>2015-07-01</td>\n",
       "      <td>2015</td>\n",
       "      <td>July</td>\n",
       "      <td>27</td>\n",
       "      <td>1</td>\n",
       "      <td>0</td>\n",
       "      <td>1</td>\n",
       "      <td>...</td>\n",
       "      <td>1</td>\n",
       "      <td>0.0</td>\n",
       "      <td>0</td>\n",
       "      <td>BB</td>\n",
       "      <td>GBR</td>\n",
       "      <td>A</td>\n",
       "      <td>C</td>\n",
       "      <td>Transient</td>\n",
       "      <td>Check-Out</td>\n",
       "      <td>2015-07-02</td>\n",
       "    </tr>\n",
       "    <tr>\n",
       "      <th>3</th>\n",
       "      <td>Resort Hotel</td>\n",
       "      <td>0</td>\n",
       "      <td>13</td>\n",
       "      <td>2015-07-01</td>\n",
       "      <td>2015</td>\n",
       "      <td>July</td>\n",
       "      <td>27</td>\n",
       "      <td>1</td>\n",
       "      <td>0</td>\n",
       "      <td>1</td>\n",
       "      <td>...</td>\n",
       "      <td>1</td>\n",
       "      <td>0.0</td>\n",
       "      <td>0</td>\n",
       "      <td>BB</td>\n",
       "      <td>GBR</td>\n",
       "      <td>A</td>\n",
       "      <td>A</td>\n",
       "      <td>Transient</td>\n",
       "      <td>Check-Out</td>\n",
       "      <td>2015-07-02</td>\n",
       "    </tr>\n",
       "    <tr>\n",
       "      <th>4</th>\n",
       "      <td>Resort Hotel</td>\n",
       "      <td>0</td>\n",
       "      <td>14</td>\n",
       "      <td>2015-07-01</td>\n",
       "      <td>2015</td>\n",
       "      <td>July</td>\n",
       "      <td>27</td>\n",
       "      <td>1</td>\n",
       "      <td>0</td>\n",
       "      <td>2</td>\n",
       "      <td>...</td>\n",
       "      <td>2</td>\n",
       "      <td>0.0</td>\n",
       "      <td>0</td>\n",
       "      <td>BB</td>\n",
       "      <td>GBR</td>\n",
       "      <td>A</td>\n",
       "      <td>A</td>\n",
       "      <td>Transient</td>\n",
       "      <td>Check-Out</td>\n",
       "      <td>2015-07-03</td>\n",
       "    </tr>\n",
       "    <tr>\n",
       "      <th>5</th>\n",
       "      <td>Resort Hotel</td>\n",
       "      <td>0</td>\n",
       "      <td>14</td>\n",
       "      <td>2015-07-01</td>\n",
       "      <td>2015</td>\n",
       "      <td>July</td>\n",
       "      <td>27</td>\n",
       "      <td>1</td>\n",
       "      <td>0</td>\n",
       "      <td>2</td>\n",
       "      <td>...</td>\n",
       "      <td>2</td>\n",
       "      <td>0.0</td>\n",
       "      <td>0</td>\n",
       "      <td>BB</td>\n",
       "      <td>GBR</td>\n",
       "      <td>A</td>\n",
       "      <td>A</td>\n",
       "      <td>Transient</td>\n",
       "      <td>Check-Out</td>\n",
       "      <td>2015-07-03</td>\n",
       "    </tr>\n",
       "    <tr>\n",
       "      <th>6</th>\n",
       "      <td>Resort Hotel</td>\n",
       "      <td>0</td>\n",
       "      <td>0</td>\n",
       "      <td>2015-07-01</td>\n",
       "      <td>2015</td>\n",
       "      <td>July</td>\n",
       "      <td>27</td>\n",
       "      <td>1</td>\n",
       "      <td>0</td>\n",
       "      <td>2</td>\n",
       "      <td>...</td>\n",
       "      <td>2</td>\n",
       "      <td>0.0</td>\n",
       "      <td>0</td>\n",
       "      <td>BB</td>\n",
       "      <td>PRT</td>\n",
       "      <td>C</td>\n",
       "      <td>C</td>\n",
       "      <td>Transient</td>\n",
       "      <td>Check-Out</td>\n",
       "      <td>2015-07-03</td>\n",
       "    </tr>\n",
       "  </tbody>\n",
       "</table>\n",
       "<p>7 rows × 21 columns</p>\n",
       "</div>"
      ],
      "text/plain": [
       "          Hotel  Is Canceled  Lead Time arrival full date  Arrival Date Year  \\\n",
       "0  Resort Hotel            0        342        2015-07-01               2015   \n",
       "1  Resort Hotel            0        737        2015-07-01               2015   \n",
       "2  Resort Hotel            0          7        2015-07-01               2015   \n",
       "3  Resort Hotel            0         13        2015-07-01               2015   \n",
       "4  Resort Hotel            0         14        2015-07-01               2015   \n",
       "5  Resort Hotel            0         14        2015-07-01               2015   \n",
       "6  Resort Hotel            0          0        2015-07-01               2015   \n",
       "\n",
       "  Arrival Date Month  Arrival Date Week Number  Arrival Date Day of Month  \\\n",
       "0               July                        27                          1   \n",
       "1               July                        27                          1   \n",
       "2               July                        27                          1   \n",
       "3               July                        27                          1   \n",
       "4               July                        27                          1   \n",
       "5               July                        27                          1   \n",
       "6               July                        27                          1   \n",
       "\n",
       "   Stays in Weekend nights  Stays in week nights  ...  Adults  Children  \\\n",
       "0                        0                     0  ...       2       0.0   \n",
       "1                        0                     0  ...       2       0.0   \n",
       "2                        0                     1  ...       1       0.0   \n",
       "3                        0                     1  ...       1       0.0   \n",
       "4                        0                     2  ...       2       0.0   \n",
       "5                        0                     2  ...       2       0.0   \n",
       "6                        0                     2  ...       2       0.0   \n",
       "\n",
       "   Babies  Meal Country Reserved Room Type Assigned room type customer type  \\\n",
       "0       0    BB     PRT                  C                  C     Transient   \n",
       "1       0    BB     PRT                  C                  C     Transient   \n",
       "2       0    BB     GBR                  A                  C     Transient   \n",
       "3       0    BB     GBR                  A                  A     Transient   \n",
       "4       0    BB     GBR                  A                  A     Transient   \n",
       "5       0    BB     GBR                  A                  A     Transient   \n",
       "6       0    BB     PRT                  C                  C     Transient   \n",
       "\n",
       "  Reservation Status Reservation status_date  \n",
       "0          Check-Out              2015-07-01  \n",
       "1          Check-Out              2015-07-01  \n",
       "2          Check-Out              2015-07-02  \n",
       "3          Check-Out              2015-07-02  \n",
       "4          Check-Out              2015-07-03  \n",
       "5          Check-Out              2015-07-03  \n",
       "6          Check-Out              2015-07-03  \n",
       "\n",
       "[7 rows x 21 columns]"
      ]
     },
     "execution_count": 4,
     "metadata": {},
     "output_type": "execute_result"
    }
   ],
   "source": [
    "bookings.head(7)"
   ]
  },
  {
   "cell_type": "code",
   "execution_count": 3,
   "id": "08dd7817",
   "metadata": {},
   "outputs": [],
   "source": [
    "# Привожу названия колонок к нижнему регистру и заменяю пробелы на знак нижнего подчеркивания\n",
    "\n",
    "rename_cols = {}\n",
    "for col in bookings.columns:\n",
    "    rename_cols[col] = col.replace(' ', '_').lower()"
   ]
  },
  {
   "cell_type": "code",
   "execution_count": 4,
   "id": "a12024af",
   "metadata": {},
   "outputs": [],
   "source": [
    "bookings = bookings.rename(columns=rename_cols)"
   ]
  },
  {
   "cell_type": "code",
   "execution_count": 7,
   "id": "829145d9",
   "metadata": {},
   "outputs": [
    {
     "data": {
      "text/plain": [
       "Index(['hotel', 'is_canceled', 'lead_time', 'arrival_full_date',\n",
       "       'arrival_date_year', 'arrival_date_month', 'arrival_date_week_number',\n",
       "       'arrival_date_day_of_month', 'stays_in_weekend_nights',\n",
       "       'stays_in_week_nights', 'stays_total_nights', 'adults', 'children',\n",
       "       'babies', 'meal', 'country', 'reserved_room_type', 'assigned_room_type',\n",
       "       'customer_type', 'reservation_status', 'reservation_status_date'],\n",
       "      dtype='object')"
      ]
     },
     "execution_count": 7,
     "metadata": {},
     "output_type": "execute_result"
    }
   ],
   "source": [
    "bookings.columns"
   ]
  },
  {
   "cell_type": "markdown",
   "id": "4fc40c51",
   "metadata": {},
   "source": [
    "Пользователи из каких стран совершили наибольшее число успешных бронирований? Укажите топ-5"
   ]
  },
  {
   "cell_type": "code",
   "execution_count": 8,
   "id": "d28ae825",
   "metadata": {},
   "outputs": [
    {
     "data": {
      "text/plain": [
       "PRT    21071\n",
       "GBR     9676\n",
       "FRA     8481\n",
       "ESP     6391\n",
       "DEU     6069\n",
       "Name: country, dtype: int64"
      ]
     },
     "execution_count": 8,
     "metadata": {},
     "output_type": "execute_result"
    }
   ],
   "source": [
    "bookings.loc[bookings.is_canceled == 0].country.value_counts().head(5)"
   ]
  },
  {
   "cell_type": "markdown",
   "id": "23ca3467",
   "metadata": {},
   "source": [
    " На сколько ночей в среднем бронируют отели типа City Hotel? Resort Hotel? Запишите полученные значения в пропуски с точностью до 2 знаков после точки."
   ]
  },
  {
   "cell_type": "code",
   "execution_count": 9,
   "id": "008e22a7",
   "metadata": {},
   "outputs": [
    {
     "data": {
      "text/html": [
       "<div>\n",
       "<style scoped>\n",
       "    .dataframe tbody tr th:only-of-type {\n",
       "        vertical-align: middle;\n",
       "    }\n",
       "\n",
       "    .dataframe tbody tr th {\n",
       "        vertical-align: top;\n",
       "    }\n",
       "\n",
       "    .dataframe thead th {\n",
       "        text-align: right;\n",
       "    }\n",
       "</style>\n",
       "<table border=\"1\" class=\"dataframe\">\n",
       "  <thead>\n",
       "    <tr style=\"text-align: right;\">\n",
       "      <th></th>\n",
       "      <th>stays_total_nights</th>\n",
       "    </tr>\n",
       "    <tr>\n",
       "      <th>hotel</th>\n",
       "      <th></th>\n",
       "    </tr>\n",
       "  </thead>\n",
       "  <tbody>\n",
       "    <tr>\n",
       "      <th>City Hotel</th>\n",
       "      <td>2.98</td>\n",
       "    </tr>\n",
       "    <tr>\n",
       "      <th>Resort Hotel</th>\n",
       "      <td>4.32</td>\n",
       "    </tr>\n",
       "  </tbody>\n",
       "</table>\n",
       "</div>"
      ],
      "text/plain": [
       "              stays_total_nights\n",
       "hotel                           \n",
       "City Hotel                  2.98\n",
       "Resort Hotel                4.32"
      ]
     },
     "execution_count": 9,
     "metadata": {},
     "output_type": "execute_result"
    }
   ],
   "source": [
    "bookings.groupby('hotel') \\\n",
    ".agg({'stays_total_nights': 'mean'}) \\\n",
    ".round(2)"
   ]
  },
  {
   "cell_type": "markdown",
   "id": "a0e569b6",
   "metadata": {},
   "source": [
    "Иногда тип номера, присвоенного клиенту, отличается от изначально забронированного. Такое может произойти, например, по причине овербукинга.\n",
    "\n",
    "Сколько подобных наблюдений встретилось в датасете?\n",
    "\n",
    "*отмена бронирования также считается"
   ]
  },
  {
   "cell_type": "code",
   "execution_count": 10,
   "id": "ac459166",
   "metadata": {},
   "outputs": [
    {
     "data": {
      "text/plain": [
       "(14917, 21)"
      ]
     },
     "execution_count": 10,
     "metadata": {},
     "output_type": "execute_result"
    }
   ],
   "source": [
    "bookings.query('assigned_room_type != reserved_room_type').shape"
   ]
  },
  {
   "cell_type": "markdown",
   "id": "cddc442c",
   "metadata": {},
   "source": [
    "Теперь проанализируйте даты запланированного прибытия.\n",
    "\n",
    "На какой месяц чаще всего оформляли бронь в 2016 году? Изменился ли самый популярный месяц в 2017?"
   ]
  },
  {
   "cell_type": "code",
   "execution_count": 11,
   "id": "764fe413",
   "metadata": {},
   "outputs": [
    {
     "data": {
      "text/plain": [
       "arrival_date_year\n",
       "2015    September\n",
       "2016      October\n",
       "2017          May\n",
       "Name: arrival_date_month, dtype: object"
      ]
     },
     "execution_count": 11,
     "metadata": {},
     "output_type": "execute_result"
    }
   ],
   "source": [
    "bookings.groupby('arrival_date_year').arrival_date_month.agg(pd.Series.mode)"
   ]
  },
  {
   "cell_type": "markdown",
   "id": "e595c850",
   "metadata": {},
   "source": [
    "Сгруппируйте данные по годам, а затем проверьте, на какой месяц бронирования отеля типа City Hotel отменялись чаще всего в 2015? 2016? 2017? "
   ]
  },
  {
   "cell_type": "code",
   "execution_count": 12,
   "id": "fa3941d4",
   "metadata": {},
   "outputs": [
    {
     "data": {
      "text/html": [
       "<div>\n",
       "<style scoped>\n",
       "    .dataframe tbody tr th:only-of-type {\n",
       "        vertical-align: middle;\n",
       "    }\n",
       "\n",
       "    .dataframe tbody tr th {\n",
       "        vertical-align: top;\n",
       "    }\n",
       "\n",
       "    .dataframe thead th {\n",
       "        text-align: right;\n",
       "    }\n",
       "</style>\n",
       "<table border=\"1\" class=\"dataframe\">\n",
       "  <thead>\n",
       "    <tr style=\"text-align: right;\">\n",
       "      <th></th>\n",
       "      <th>hotel</th>\n",
       "      <th>is_canceled</th>\n",
       "      <th>lead_time</th>\n",
       "      <th>arrival_full_date</th>\n",
       "      <th>arrival_date_year</th>\n",
       "      <th>arrival_date_month</th>\n",
       "      <th>arrival_date_week_number</th>\n",
       "      <th>arrival_date_day_of_month</th>\n",
       "      <th>stays_in_weekend_nights</th>\n",
       "      <th>stays_in_week_nights</th>\n",
       "      <th>...</th>\n",
       "      <th>adults</th>\n",
       "      <th>children</th>\n",
       "      <th>babies</th>\n",
       "      <th>meal</th>\n",
       "      <th>country</th>\n",
       "      <th>reserved_room_type</th>\n",
       "      <th>assigned_room_type</th>\n",
       "      <th>customer_type</th>\n",
       "      <th>reservation_status</th>\n",
       "      <th>reservation_status_date</th>\n",
       "    </tr>\n",
       "  </thead>\n",
       "  <tbody>\n",
       "    <tr>\n",
       "      <th>40061</th>\n",
       "      <td>City Hotel</td>\n",
       "      <td>1</td>\n",
       "      <td>88</td>\n",
       "      <td>2015-07-01</td>\n",
       "      <td>2015</td>\n",
       "      <td>July</td>\n",
       "      <td>27</td>\n",
       "      <td>1</td>\n",
       "      <td>0</td>\n",
       "      <td>4</td>\n",
       "      <td>...</td>\n",
       "      <td>2</td>\n",
       "      <td>0.0</td>\n",
       "      <td>0</td>\n",
       "      <td>BB</td>\n",
       "      <td>PRT</td>\n",
       "      <td>A</td>\n",
       "      <td>A</td>\n",
       "      <td>Transient</td>\n",
       "      <td>Canceled</td>\n",
       "      <td>2015-07-01</td>\n",
       "    </tr>\n",
       "  </tbody>\n",
       "</table>\n",
       "<p>1 rows × 21 columns</p>\n",
       "</div>"
      ],
      "text/plain": [
       "            hotel  is_canceled  lead_time arrival_full_date  \\\n",
       "40061  City Hotel            1         88        2015-07-01   \n",
       "\n",
       "       arrival_date_year arrival_date_month  arrival_date_week_number  \\\n",
       "40061               2015               July                        27   \n",
       "\n",
       "       arrival_date_day_of_month  stays_in_weekend_nights  \\\n",
       "40061                          1                        0   \n",
       "\n",
       "       stays_in_week_nights  ...  adults  children  babies  meal country  \\\n",
       "40061                     4  ...       2       0.0       0    BB     PRT   \n",
       "\n",
       "      reserved_room_type assigned_room_type customer_type reservation_status  \\\n",
       "40061                  A                  A     Transient           Canceled   \n",
       "\n",
       "      reservation_status_date  \n",
       "40061              2015-07-01  \n",
       "\n",
       "[1 rows x 21 columns]"
      ]
     },
     "execution_count": 12,
     "metadata": {},
     "output_type": "execute_result"
    }
   ],
   "source": [
    "bookings.query(\"hotel == 'City Hotel' and is_canceled == 1\").head(1)"
   ]
  },
  {
   "cell_type": "code",
   "execution_count": 13,
   "id": "da7f3e15",
   "metadata": {},
   "outputs": [
    {
     "data": {
      "text/plain": [
       "arrival_date_year  arrival_date_year  arrival_date_month\n",
       "2015               2015               September             2094\n",
       "2016               2016               October               2514\n",
       "2017               2017               May                   2762\n",
       "Name: is_canceled, dtype: int64"
      ]
     },
     "execution_count": 13,
     "metadata": {},
     "output_type": "execute_result"
    }
   ],
   "source": [
    "bookings.groupby(['arrival_date_year', 'arrival_date_month']).is_canceled.sum() \\\n",
    ".groupby(['arrival_date_year']).nlargest(1)"
   ]
  },
  {
   "cell_type": "markdown",
   "id": "070c2331",
   "metadata": {},
   "source": [
    "Посмотрите на числовые характеристики трёх колонок: adults, children и babies. Какая из них имеет наибольшее среднее значение?"
   ]
  },
  {
   "cell_type": "code",
   "execution_count": 7,
   "id": "d2acedc6",
   "metadata": {},
   "outputs": [
    {
     "data": {
      "text/plain": [
       "adults      1.856403\n",
       "children    0.103890\n",
       "babies      0.007949\n",
       "dtype: float64"
      ]
     },
     "execution_count": 7,
     "metadata": {},
     "output_type": "execute_result"
    }
   ],
   "source": [
    "bookings[['adults', 'children', 'babies']].mean()"
   ]
  },
  {
   "cell_type": "markdown",
   "id": "4c49f197",
   "metadata": {},
   "source": [
    "Создайте колонку total_kids, объединив столбцы children и babies. Для отелей какого типа среднее значение переменной оказалось наибольшим?\n",
    "\n",
    "City hotel – отель находится в городе\n",
    "Resort hotel – отель курортный.\n",
    "В качестве ответа укажите наибольшее среднее, округлив до 2 знаков после точки."
   ]
  },
  {
   "cell_type": "code",
   "execution_count": 10,
   "id": "cd9458f8",
   "metadata": {},
   "outputs": [],
   "source": [
    "bookings['total_kids'] = bookings.children + bookings.babies"
   ]
  },
  {
   "cell_type": "code",
   "execution_count": 11,
   "id": "823db377",
   "metadata": {},
   "outputs": [
    {
     "data": {
      "text/plain": [
       "hotel\n",
       "City Hotel      0.10\n",
       "Resort Hotel    0.14\n",
       "Name: total_kids, dtype: float64"
      ]
     },
     "execution_count": 11,
     "metadata": {},
     "output_type": "execute_result"
    }
   ],
   "source": [
    "bookings.groupby('hotel').total_kids.mean().round(2)"
   ]
  },
  {
   "cell_type": "markdown",
   "id": "54ec67d8",
   "metadata": {},
   "source": [
    "Не все бронирования завершились успешно, поэтому можно посчитать, сколько клиентов было потеряно в процессе. Иными словами, посчитать метрику под названием Churn Rate.\n",
    "\n",
    "В нашем случае Churn Rate - это процент клиентов, которые отменили бронирование. Давайте посмотрим, как эта метрика связана с наличием детей у клиентов.\n",
    "\n",
    "Создайте колонку has_kids, которая принимает значение True, если клиент при бронировании указал хотя бы одного ребенка, в противном случае – False. Далее проверьте, среди какой группы пользователей показатель оттока выше. \n",
    "\n",
    "В качестве ответа укажите наибольший % оттока, округленный до 2 знаков после точки."
   ]
  },
  {
   "cell_type": "code",
   "execution_count": 92,
   "id": "948f2df4",
   "metadata": {},
   "outputs": [],
   "source": [
    "bookings['has_kids'] = bookings['total_kids'] >= 1"
   ]
  },
  {
   "cell_type": "code",
   "execution_count": 93,
   "id": "98f33241",
   "metadata": {},
   "outputs": [],
   "source": [
    "rates = bookings.groupby('has_kids')['is_canceled'].value_counts(normalize=True)"
   ]
  },
  {
   "cell_type": "code",
   "execution_count": 94,
   "id": "707f2ea7",
   "metadata": {},
   "outputs": [
    {
     "data": {
      "text/plain": [
       "has_kids  is_canceled\n",
       "False     0              62.78\n",
       "          1              37.22\n",
       "True      0              65.08\n",
       "          1              34.92\n",
       "Name: is_canceled, dtype: float64"
      ]
     },
     "execution_count": 94,
     "metadata": {},
     "output_type": "execute_result"
    }
   ],
   "source": [
    "round(rates * 100, 2)"
   ]
  }
 ],
 "metadata": {
  "kernelspec": {
   "display_name": "Python 3 (ipykernel)",
   "language": "python",
   "name": "python3"
  },
  "language_info": {
   "codemirror_mode": {
    "name": "ipython",
    "version": 3
   },
   "file_extension": ".py",
   "mimetype": "text/x-python",
   "name": "python",
   "nbconvert_exporter": "python",
   "pygments_lexer": "ipython3",
   "version": "3.9.13"
  }
 },
 "nbformat": 4,
 "nbformat_minor": 5
}
